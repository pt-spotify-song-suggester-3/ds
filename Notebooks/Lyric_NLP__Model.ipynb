{
  "nbformat": 4,
  "nbformat_minor": 0,
  "metadata": {
    "colab": {
      "name": "Lyric_NLP _Model.ipynb",
      "provenance": [],
      "collapsed_sections": []
    },
    "kernelspec": {
      "name": "python3",
      "display_name": "Python 3"
    }
  },
  "cells": [
    {
      "cell_type": "markdown",
      "metadata": {
        "id": "bufHzYepSEbu"
      },
      "source": [
        "### Webscraper for title and song lyrics"
      ]
    },
    {
      "cell_type": "code",
      "metadata": {
        "id": "RZHuhpPLLWCG"
      },
      "source": [
        "import urllib.request\n",
        "import urllib.parse\n",
        "import urllib.error\n",
        "import ssl\n",
        "import json\n",
        "import ast\n",
        "import os\n",
        "from bs4 import BeautifulSoup\n",
        "from urllib.request import Request, urlopen"
      ],
      "execution_count": 32,
      "outputs": []
    },
    {
      "cell_type": "code",
      "metadata": {
        "id": "fJ9GjL-fLjCR"
      },
      "source": [
        "ctx = ssl.create_default_context()\n",
        "ctx.check_hostname = False\n",
        "ctx.verify_mode = ssl.CERT_NONE"
      ],
      "execution_count": 33,
      "outputs": []
    },
    {
      "cell_type": "code",
      "metadata": {
        "id": "08xOBcq0MWXI",
        "outputId": "d64017ff-aa91-46ca-f293-6e011ff65502",
        "colab": {
          "base_uri": "https://localhost:8080/",
          "height": 34
        }
      },
      "source": [
        "url = input('song lyrics url')"
      ],
      "execution_count": 37,
      "outputs": [
        {
          "output_type": "stream",
          "text": [
            "song lyrics urlhttps://genius.com/Bring-me-the-horizon-drown-lyrics\n"
          ],
          "name": "stdout"
        }
      ]
    },
    {
      "cell_type": "code",
      "metadata": {
        "id": "_aH2A9fTMloE"
      },
      "source": [
        "req = Request(url,headers={'User-Agent': 'Mozilla/5.0'})\n",
        "webpage = urlopen(req).read()"
      ],
      "execution_count": 38,
      "outputs": []
    },
    {
      "cell_type": "code",
      "metadata": {
        "id": "oQrD6GjYM6j_"
      },
      "source": [
        "soup = BeautifulSoup(webpage, 'html.parser')\n",
        "html = soup.prettify('utf-8')\n",
        "song_json = {}\n",
        "song_json[\"Lyrics\"] = [];"
      ],
      "execution_count": 39,
      "outputs": []
    },
    {
      "cell_type": "code",
      "metadata": {
        "id": "4vyKqDJ1Nw88"
      },
      "source": [
        "for title in soup.findAll('title'):\n",
        "  song_json[\"Title\"] = title.text.strip()"
      ],
      "execution_count": 40,
      "outputs": []
    },
    {
      "cell_type": "code",
      "metadata": {
        "id": "gb-MI0ZJOlP1",
        "outputId": "f31af173-520b-4b86-bfe2-84ac278861d0",
        "colab": {
          "base_uri": "https://localhost:8080/",
          "height": 35
        }
      },
      "source": [
        "song_json[\"Title\"]"
      ],
      "execution_count": 41,
      "outputs": [
        {
          "output_type": "execute_result",
          "data": {
            "application/vnd.google.colaboratory.intrinsic+json": {
              "type": "string"
            },
            "text/plain": [
              "'Bring\\xa0Me The Horizon – Drown Lyrics | Genius Lyrics'"
            ]
          },
          "metadata": {
            "tags": []
          },
          "execution_count": 41
        }
      ]
    },
    {
      "cell_type": "code",
      "metadata": {
        "id": "VP3PxDQUOrH9"
      },
      "source": [
        "for div in soup.findAll('div', attrs={'class': 'lyrics'}):\n",
        "  song_json[\"Lyrics\"].append(div.text.strip().split(\"\\n\"));"
      ],
      "execution_count": 42,
      "outputs": []
    },
    {
      "cell_type": "code",
      "metadata": {
        "id": "yQC5xWjnPKe-",
        "outputId": "ccee66c4-c6e3-498e-bca5-2fc1a4e24d72",
        "colab": {
          "base_uri": "https://localhost:8080/",
          "height": 806
        }
      },
      "source": [
        "song_json[\"Lyrics\"]"
      ],
      "execution_count": 43,
      "outputs": [
        {
          "output_type": "execute_result",
          "data": {
            "text/plain": [
              "[['[Verse 1]',\n",
              "  \"What doesn't kill you makes you wish you were dead\",\n",
              "  \"Got a hole in my soul growing deeper and deeper, and I can't take\",\n",
              "  'One more moment of this silence, the loneliness is haunting me',\n",
              "  \"And the weight of the world's getting harder to hold up\",\n",
              "  '',\n",
              "  '[Pre-Chorus]',\n",
              "  'It comes in waves, I close my eyes',\n",
              "  'Hold my breath and let it bury me',\n",
              "  \"I'm not okay and it's not alright\",\n",
              "  \"Won't you drag the lake and bring me home again?\",\n",
              "  '',\n",
              "  '[Chorus]',\n",
              "  \"Who will fix me now? Dive in when I'm down?\",\n",
              "  \"Save me from myself, don't let me drown\",\n",
              "  'Who will make me fight? Drag me out alive?',\n",
              "  \"Save me from myself, don't let me drown\",\n",
              "  '',\n",
              "  '[Verse 2]',\n",
              "  \"What doesn't destroy you, leaves you broken instead\",\n",
              "  \"Got a hole in my soul growing deeper and deeper, and I can't take\",\n",
              "  'One more moment of this silence, the loneliness is haunting me',\n",
              "  \"And the weight of the world's getting harder to hold up\",\n",
              "  '',\n",
              "  '[Pre-Chorus]',\n",
              "  'It comes in waves, I close my eyes',\n",
              "  'Hold my breath and let it bury me',\n",
              "  \"I'm not okay and it's not alright\",\n",
              "  \"Won't you drag the lake and bring me home again?\",\n",
              "  '',\n",
              "  '[Chorus]',\n",
              "  \"Who will fix me now? Dive in when I'm down?\",\n",
              "  \"Save me from myself, don't let me drown\",\n",
              "  'Who will make me fight? Drag me out alive?',\n",
              "  \"Save me from myself, don't let me drown\",\n",
              "  '',\n",
              "  '[Bridge]',\n",
              "  \"'Cause you know that I can't do this on my own\",\n",
              "  \"'Cause you know that I can't do this on my own\",\n",
              "  \"'Cause you know that I can't do this on my own\",\n",
              "  \"('Cause you know that I can't do this on my)\",\n",
              "  '',\n",
              "  '[Outro]',\n",
              "  'Who will fix me now?',\n",
              "  'Who will fix me now?',\n",
              "  \"Who will fix me now? Dive in when I'm down?\",\n",
              "  \"Save me from myself, don't let me drown\"]]"
            ]
          },
          "metadata": {
            "tags": []
          },
          "execution_count": 43
        }
      ]
    },
    {
      "cell_type": "code",
      "metadata": {
        "id": "iGkPyJGyPNee"
      },
      "source": [
        "with open(song_json[\"Title\"]+'.json','w') as outfile:\n",
        "  json.dump(song_json, outfile, indent=4, ensure_ascii=False)"
      ],
      "execution_count": 44,
      "outputs": []
    },
    {
      "cell_type": "markdown",
      "metadata": {
        "id": "dbGaNADxSTMu"
      },
      "source": [
        "Transforming title and lyrics into numpy arrays for dataframe creation."
      ]
    },
    {
      "cell_type": "code",
      "metadata": {
        "id": "9CkJzpcBS-or"
      },
      "source": [
        "import pandas as pd\n",
        "import numpy as np"
      ],
      "execution_count": 45,
      "outputs": []
    },
    {
      "cell_type": "code",
      "metadata": {
        "id": "Ry9so-Z3TAcs",
        "outputId": "01293ce0-e8d8-44cb-9f88-e58eedffc9ff",
        "colab": {
          "base_uri": "https://localhost:8080/",
          "height": 34
        }
      },
      "source": [
        "type(song_json[\"Lyrics\"])"
      ],
      "execution_count": 46,
      "outputs": [
        {
          "output_type": "execute_result",
          "data": {
            "text/plain": [
              "list"
            ]
          },
          "metadata": {
            "tags": []
          },
          "execution_count": 46
        }
      ]
    },
    {
      "cell_type": "code",
      "metadata": {
        "id": "WsJXhuM9T53w"
      },
      "source": [
        "df = pd.read_json(song_json[\"Title\"] + '.json', orient='records')"
      ],
      "execution_count": 50,
      "outputs": []
    },
    {
      "cell_type": "code",
      "metadata": {
        "id": "7PHHWE0SUkqx",
        "outputId": "9072dfe6-b3bd-45c8-c547-4c8f77102903",
        "colab": {
          "base_uri": "https://localhost:8080/",
          "height": 77
        }
      },
      "source": [
        "df"
      ],
      "execution_count": 52,
      "outputs": [
        {
          "output_type": "execute_result",
          "data": {
            "text/html": [
              "<div>\n",
              "<style scoped>\n",
              "    .dataframe tbody tr th:only-of-type {\n",
              "        vertical-align: middle;\n",
              "    }\n",
              "\n",
              "    .dataframe tbody tr th {\n",
              "        vertical-align: top;\n",
              "    }\n",
              "\n",
              "    .dataframe thead th {\n",
              "        text-align: right;\n",
              "    }\n",
              "</style>\n",
              "<table border=\"1\" class=\"dataframe\">\n",
              "  <thead>\n",
              "    <tr style=\"text-align: right;\">\n",
              "      <th></th>\n",
              "      <th>Lyrics</th>\n",
              "      <th>Title</th>\n",
              "    </tr>\n",
              "  </thead>\n",
              "  <tbody>\n",
              "    <tr>\n",
              "      <th>0</th>\n",
              "      <td>[[Verse 1], What doesn't kill you makes you wi...</td>\n",
              "      <td>Bring Me The Horizon – Drown Lyrics | Genius L...</td>\n",
              "    </tr>\n",
              "  </tbody>\n",
              "</table>\n",
              "</div>"
            ],
            "text/plain": [
              "                                              Lyrics                                              Title\n",
              "0  [[Verse 1], What doesn't kill you makes you wi...  Bring Me The Horizon – Drown Lyrics | Genius L..."
            ]
          },
          "metadata": {
            "tags": []
          },
          "execution_count": 52
        }
      ]
    },
    {
      "cell_type": "code",
      "metadata": {
        "id": "xDfnnGXZZXa4"
      },
      "source": [
        ""
      ],
      "execution_count": null,
      "outputs": []
    }
  ]
}