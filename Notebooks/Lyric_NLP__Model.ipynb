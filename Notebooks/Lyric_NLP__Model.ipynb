{
  "nbformat": 4,
  "nbformat_minor": 0,
  "metadata": {
    "colab": {
      "name": "Lyric_NLP _Model.ipynb",
      "provenance": [],
      "collapsed_sections": []
    },
    "kernelspec": {
      "name": "python3",
      "display_name": "Python 3"
    }
  },
  "cells": [
    {
      "cell_type": "code",
      "metadata": {
        "id": "RZHuhpPLLWCG"
      },
      "source": [
        "import urllib.request\n",
        "import urllib.parse\n",
        "import urllib.error\n",
        "import ssl\n",
        "import json\n",
        "import ast\n",
        "import os\n",
        "from bs4 import BeautifulSoup\n",
        "from urllib.request import Request, urlopen"
      ],
      "execution_count": 2,
      "outputs": []
    },
    {
      "cell_type": "code",
      "metadata": {
        "id": "fJ9GjL-fLjCR"
      },
      "source": [
        "ctx = ssl.create_default_context()\n",
        "ctx.check_hostname = False\n",
        "ctx.verify_mode = ssl.CERT_NONE"
      ],
      "execution_count": null,
      "outputs": []
    },
    {
      "cell_type": "code",
      "metadata": {
        "id": "08xOBcq0MWXI",
        "outputId": "66196e7f-db20-42e4-a801-812f8710eacf",
        "colab": {
          "base_uri": "https://localhost:8080/",
          "height": 34
        }
      },
      "source": [
        "url = input('song lyrics url')"
      ],
      "execution_count": 3,
      "outputs": [
        {
          "output_type": "stream",
          "text": [
            "song lyrics urlhttps://genius.com/Bring-me-the-horizon-teardrops-lyrics\n"
          ],
          "name": "stdout"
        }
      ]
    },
    {
      "cell_type": "code",
      "metadata": {
        "id": "_aH2A9fTMloE"
      },
      "source": [
        "req = Request(url,headers={'User-Agent': 'Mozilla/5.0'})\n",
        "webpage = urlopen(req).read()"
      ],
      "execution_count": 5,
      "outputs": []
    },
    {
      "cell_type": "code",
      "metadata": {
        "id": "oQrD6GjYM6j_"
      },
      "source": [
        "soup = BeautifulSoup(webpage, 'html.parser')\n",
        "html = soup.prettify('utf-8')\n",
        "song_json = {}\n",
        "song_json[\"Lyrics\"] = [];\n",
        "song_json[\"Comments\"] = [];"
      ],
      "execution_count": 6,
      "outputs": []
    },
    {
      "cell_type": "code",
      "metadata": {
        "id": "4vyKqDJ1Nw88"
      },
      "source": [
        "for title in soup.findAll('title'):\n",
        "  song_json[\"Title\"] = title.text.strip()"
      ],
      "execution_count": 8,
      "outputs": []
    },
    {
      "cell_type": "code",
      "metadata": {
        "id": "gb-MI0ZJOlP1",
        "outputId": "94657eea-2253-4a0c-8bc5-ef19669e6d54",
        "colab": {
          "base_uri": "https://localhost:8080/",
          "height": 35
        }
      },
      "source": [
        "song_json[\"Title\"]"
      ],
      "execution_count": 9,
      "outputs": [
        {
          "output_type": "execute_result",
          "data": {
            "application/vnd.google.colaboratory.intrinsic+json": {
              "type": "string"
            },
            "text/plain": [
              "'Bring\\xa0Me The Horizon – Teardrops Lyrics | Genius Lyrics'"
            ]
          },
          "metadata": {
            "tags": []
          },
          "execution_count": 9
        }
      ]
    },
    {
      "cell_type": "code",
      "metadata": {
        "id": "VP3PxDQUOrH9"
      },
      "source": [
        "for div in soup.findAll('div', attrs={'class': 'lyrics'}):\n",
        "  song_json[\"Lyrics\"].append(div.text.strip().split(\"\\n\"));"
      ],
      "execution_count": 10,
      "outputs": []
    },
    {
      "cell_type": "code",
      "metadata": {
        "id": "yQC5xWjnPKe-"
      },
      "source": [
        "song_json[\"Lyrics\"]"
      ],
      "execution_count": null,
      "outputs": []
    },
    {
      "cell_type": "code",
      "metadata": {
        "id": "iGkPyJGyPNee"
      },
      "source": [
        ""
      ],
      "execution_count": null,
      "outputs": []
    }
  ]
}