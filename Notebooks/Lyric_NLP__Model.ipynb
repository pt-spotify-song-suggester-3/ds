{
  "nbformat": 4,
  "nbformat_minor": 0,
  "metadata": {
    "colab": {
      "name": "Lyric_NLP _Model.ipynb",
      "provenance": [],
      "collapsed_sections": []
    },
    "kernelspec": {
      "name": "python3",
      "display_name": "Python 3"
    }
  },
  "cells": [
    {
      "cell_type": "markdown",
      "metadata": {
        "id": "bufHzYepSEbu"
      },
      "source": [
        "### Webscraper for title and song lyrics"
      ]
    },
    {
      "cell_type": "code",
      "metadata": {
        "id": "RZHuhpPLLWCG"
      },
      "source": [
        "import urllib.request\n",
        "import urllib.parse\n",
        "import urllib.error\n",
        "import ssl\n",
        "import json\n",
        "import ast\n",
        "import os\n",
        "from bs4 import BeautifulSoup\n",
        "from urllib.request import Request, urlopen"
      ],
      "execution_count": 32,
      "outputs": []
    },
    {
      "cell_type": "code",
      "metadata": {
        "id": "fJ9GjL-fLjCR"
      },
      "source": [
        "ctx = ssl.create_default_context()\n",
        "ctx.check_hostname = False\n",
        "ctx.verify_mode = ssl.CERT_NONE"
      ],
      "execution_count": 33,
      "outputs": []
    },
    {
      "cell_type": "code",
      "metadata": {
        "id": "08xOBcq0MWXI",
        "outputId": "e780f93f-94ed-4f94-ef4c-b45ea8f24ec4",
        "colab": {
          "base_uri": "https://localhost:8080/",
          "height": 34
        }
      },
      "source": [
        "url = input('song lyrics url')"
      ],
      "execution_count": 56,
      "outputs": [
        {
          "output_type": "stream",
          "text": [
            "song lyrics urlhttps://genius.com/A-day-to-remember-if-it-means-a-lot-to-you-lyrics\n"
          ],
          "name": "stdout"
        }
      ]
    },
    {
      "cell_type": "code",
      "metadata": {
        "id": "_aH2A9fTMloE"
      },
      "source": [
        "req = Request(url,headers={'User-Agent': 'Mozilla/5.0'})\n",
        "webpage = urlopen(req).read()"
      ],
      "execution_count": 57,
      "outputs": []
    },
    {
      "cell_type": "code",
      "metadata": {
        "id": "oQrD6GjYM6j_"
      },
      "source": [
        "soup = BeautifulSoup(webpage, 'html.parser')\n",
        "html = soup.prettify('utf-8')\n",
        "song_json = {}\n",
        "song_json[\"Lyrics\"] = [];"
      ],
      "execution_count": 58,
      "outputs": []
    },
    {
      "cell_type": "code",
      "metadata": {
        "id": "4vyKqDJ1Nw88"
      },
      "source": [
        "for title in soup.findAll('title'):\n",
        "  song_json[\"Title\"] = title.text.strip()"
      ],
      "execution_count": 59,
      "outputs": []
    },
    {
      "cell_type": "code",
      "metadata": {
        "id": "gb-MI0ZJOlP1",
        "outputId": "306034d5-d920-4324-ab79-bd86034df7dc",
        "colab": {
          "base_uri": "https://localhost:8080/",
          "height": 35
        }
      },
      "source": [
        "song_json[\"Title\"]"
      ],
      "execution_count": 60,
      "outputs": [
        {
          "output_type": "execute_result",
          "data": {
            "application/vnd.google.colaboratory.intrinsic+json": {
              "type": "string"
            },
            "text/plain": [
              "'A\\xa0Day To Remember – If It Means a Lot to You Lyrics | Genius Lyrics'"
            ]
          },
          "metadata": {
            "tags": []
          },
          "execution_count": 60
        }
      ]
    },
    {
      "cell_type": "code",
      "metadata": {
        "id": "VP3PxDQUOrH9"
      },
      "source": [
        "for div in soup.findAll('div', attrs={'class': 'lyrics'}):\n",
        "  song_json[\"Lyrics\"].append(div.text.strip().split(\"\\n\"));"
      ],
      "execution_count": 61,
      "outputs": []
    },
    {
      "cell_type": "code",
      "metadata": {
        "id": "yQC5xWjnPKe-",
        "outputId": "6bf8de97-8adb-477f-ebac-67b49cea3a98",
        "colab": {
          "base_uri": "https://localhost:8080/",
          "height": 1000
        }
      },
      "source": [
        "song_json[\"Lyrics\"]"
      ],
      "execution_count": 62,
      "outputs": [
        {
          "output_type": "execute_result",
          "data": {
            "text/plain": [
              "[['[Verse 1: Jeremy McKinnon]',\n",
              "  'And hey, darling',\n",
              "  \"I hope you're good tonight\",\n",
              "  \"And I know you don't feel right when I'm leaving\",\n",
              "  \"Yeah, I want it, but no, I don't need it\",\n",
              "  'Tell me something sweet to get me by',\n",
              "  \"'Cause I can't come back home 'til they're singing\",\n",
              "  '',\n",
              "  '[Pre-Chorus: Jeremy McKinnon]',\n",
              "  \"La, la la la, la la la, 'til everyone is singing\",\n",
              "  '',\n",
              "  '[Chorus: Jeremy McKinnon]',\n",
              "  \"If you can wait 'til I get home\",\n",
              "  'Then I swear to you that we can make this last, la, la',\n",
              "  \"If you can wait 'til I get home\",\n",
              "  'Then I swear, come tomorrow, this will all be in our past',\n",
              "  '',\n",
              "  '[Post-Chorus: Jeremy McKinnon]',\n",
              "  'Well, it might be for the best',\n",
              "  '',\n",
              "  '[Verse 2: Sierra Kusterbeck]',\n",
              "  'And hey, sweetie',\n",
              "  'Well, I need you here tonight',\n",
              "  \"And I know that you don't want to be leaving me\",\n",
              "  \"Yeah, you want it, but I can't help it\",\n",
              "  \"I just feel complete when you're by my side\",\n",
              "  \"But I know you can't come home 'til they're singing\",\n",
              "  '',\n",
              "  '[Pre-Chorus: Sierra Kusterbeck, Jeremy McKinnon]',\n",
              "  \"La, la la la, la la la, 'til everyone is singing\",\n",
              "  'La, la la la, la la la',\n",
              "  '',\n",
              "  '[Chorus: Jeremy McKinnon]',\n",
              "  \"If you can wait 'til I get home\",\n",
              "  'Then I swear to you that we can make this last, la, la',\n",
              "  \"If you can wait 'til I get home\",\n",
              "  'Then I swear, come tomorrow, this will all be in our past',\n",
              "  '',\n",
              "  '[Post-Chorus: Jeremy McKinnon]',\n",
              "  'Well, it might be for the best',\n",
              "  '',\n",
              "  '[Bridge: Jeremy McKinnon, Sierra Kusterbeck, Both]',\n",
              "  \"You know you can't give me what I need\",\n",
              "  'And even though you mean so much to me',\n",
              "  \"I can't wait through everything\",\n",
              "  'Is this really happening?',\n",
              "  \"I swear, I'll never be happy again\",\n",
              "  \"And don't you dare say we can just be friends\",\n",
              "  \"I'm not some boy that you can sway\",\n",
              "  \"We knew it'd happen eventually\",\n",
              "  '',\n",
              "  '[Outro: Everyone, Jeremy McKinnon]',\n",
              "  \"La, la la la, la la la, now everybody's singing\",\n",
              "  \"La, la la la, la la la, now everybody's singing\",\n",
              "  \"(If you can wait 'til I get home)\",\n",
              "  \"La, la la la, la la la, now everybody's singing\",\n",
              "  '(Then I swear we can make this last)',\n",
              "  \"La, la la la, la la la, now everybody's singing\",\n",
              "  \"(If you can wait 'til I get home)\",\n",
              "  \"La, la la la, la la la, now everybody's singing\",\n",
              "  '(Then I swear we can make this last)',\n",
              "  \"La, la la la, la la la, now everybody's singing, la...\"]]"
            ]
          },
          "metadata": {
            "tags": []
          },
          "execution_count": 62
        }
      ]
    },
    {
      "cell_type": "code",
      "metadata": {
        "id": "iGkPyJGyPNee"
      },
      "source": [
        "with open(song_json[\"Title\"]+'.json','w') as outfile:\n",
        "  json.dump(song_json, outfile, indent=4, ensure_ascii=False)"
      ],
      "execution_count": 63,
      "outputs": []
    },
    {
      "cell_type": "markdown",
      "metadata": {
        "id": "dbGaNADxSTMu"
      },
      "source": [
        "Transforming title and lyrics into numpy arrays for dataframe creation."
      ]
    },
    {
      "cell_type": "code",
      "metadata": {
        "id": "9CkJzpcBS-or"
      },
      "source": [
        "import pandas as pd\n",
        "import numpy as np"
      ],
      "execution_count": 64,
      "outputs": []
    },
    {
      "cell_type": "code",
      "metadata": {
        "id": "Ry9so-Z3TAcs",
        "outputId": "750472d4-e5f1-4e0a-c757-48440be7b460",
        "colab": {
          "base_uri": "https://localhost:8080/",
          "height": 34
        }
      },
      "source": [
        "type(song_json[\"Lyrics\"])"
      ],
      "execution_count": 65,
      "outputs": [
        {
          "output_type": "execute_result",
          "data": {
            "text/plain": [
              "list"
            ]
          },
          "metadata": {
            "tags": []
          },
          "execution_count": 65
        }
      ]
    },
    {
      "cell_type": "code",
      "metadata": {
        "id": "WsJXhuM9T53w"
      },
      "source": [
        "df = pd.read_json(song_json[\"Title\"] + '.json', orient='records')"
      ],
      "execution_count": 66,
      "outputs": []
    },
    {
      "cell_type": "code",
      "metadata": {
        "id": "7PHHWE0SUkqx",
        "outputId": "65498842-2c34-4644-e585-938d7fbc198d",
        "colab": {
          "base_uri": "https://localhost:8080/",
          "height": 77
        }
      },
      "source": [
        "df"
      ],
      "execution_count": 67,
      "outputs": [
        {
          "output_type": "execute_result",
          "data": {
            "text/html": [
              "<div>\n",
              "<style scoped>\n",
              "    .dataframe tbody tr th:only-of-type {\n",
              "        vertical-align: middle;\n",
              "    }\n",
              "\n",
              "    .dataframe tbody tr th {\n",
              "        vertical-align: top;\n",
              "    }\n",
              "\n",
              "    .dataframe thead th {\n",
              "        text-align: right;\n",
              "    }\n",
              "</style>\n",
              "<table border=\"1\" class=\"dataframe\">\n",
              "  <thead>\n",
              "    <tr style=\"text-align: right;\">\n",
              "      <th></th>\n",
              "      <th>Lyrics</th>\n",
              "      <th>Title</th>\n",
              "    </tr>\n",
              "  </thead>\n",
              "  <tbody>\n",
              "    <tr>\n",
              "      <th>0</th>\n",
              "      <td>[[Verse 1: Jeremy McKinnon], And hey, darling,...</td>\n",
              "      <td>A Day To Remember – If It Means a Lot to You L...</td>\n",
              "    </tr>\n",
              "  </tbody>\n",
              "</table>\n",
              "</div>"
            ],
            "text/plain": [
              "                                              Lyrics                                              Title\n",
              "0  [[Verse 1: Jeremy McKinnon], And hey, darling,...  A Day To Remember – If It Means a Lot to You L..."
            ]
          },
          "metadata": {
            "tags": []
          },
          "execution_count": 67
        }
      ]
    },
    {
      "cell_type": "code",
      "metadata": {
        "id": "xDfnnGXZZXa4"
      },
      "source": [
        ""
      ],
      "execution_count": 69,
      "outputs": []
    },
    {
      "cell_type": "markdown",
      "metadata": {
        "id": "WCepd52cfmsY"
      },
      "source": [
        "### Creating a program for appending songs to a dataframe using the logic above."
      ]
    },
    {
      "cell_type": "code",
      "metadata": {
        "id": "muPBTNZ0f3ih"
      },
      "source": [
        "import sys\n",
        "def lyric_catcher():\n",
        "  \n",
        "  while True:\n",
        "    print('Please input a Lyric url')\n",
        "    scrape = input('Lyric url')\n",
        "    check = isinstance(scrape, str)\n",
        "    if check == True:\n",
        "      print('Adding to dataframe!')\n",
        "      req = Request(url,headers={'User-Agent': 'Mozilla/5.0'})\n",
        "      webpage = urlopen(req).read()\n",
        "      soup = BeautifulSoup(webpage, 'html.parser')\n",
        "      html = soup.prettify('utf-8')\n",
        "      song_json = {}\n",
        "      song_json[\"Lyrics\"] = [];\n",
        "      for title in soup.findAll('title'):\n",
        "        song_json[\"Title\"] = title.text.strip()\n",
        "      for div in soup.findAll('div', attrs={'class': 'lyrics'}):\n",
        "        song_json[\"Lyrics\"].append(div.text.strip().split(\"\\n\"));\n",
        "      with open(song_json[\"Title\"]+'.json','w') as outfile:\n",
        "        json.dump(song_json, outfile, indent=4, ensure_ascii=False)\n",
        "      df = pd.read_json(song_json[\"Title\"] + '.json', orient='records')\n",
        "      print(df)\n",
        "      os.remove(song_json[\"Title\"] + '.json')\n",
        "    elif scrape is not isinstance(scrape, str):\n",
        "      break"
      ],
      "execution_count": 98,
      "outputs": []
    },
    {
      "cell_type": "code",
      "metadata": {
        "id": "FHhtiFdwh4Rl",
        "outputId": "645ddcdd-3ae6-49d4-810e-87b4716b0887",
        "colab": {
          "base_uri": "https://localhost:8080/",
          "height": 137
        }
      },
      "source": [
        "lyric_catcher()"
      ],
      "execution_count": null,
      "outputs": [
        {
          "output_type": "stream",
          "text": [
            "Please input a Lyric url\n",
            "Lyric urlhttps://genius.com/Bring-me-the-horizon-teardrops-lyrics\n",
            "Adding to dataframe!\n",
            "                                              Lyrics                                              Title\n",
            "0  [[Verse 1: Jeremy McKinnon], And hey, darling,...  A Day To Remember – If It Means a Lot to You L...\n",
            "Please input a Lyric url\n"
          ],
          "name": "stdout"
        }
      ]
    },
    {
      "cell_type": "code",
      "metadata": {
        "id": "kQlo-78zh6hh"
      },
      "source": [
        ""
      ],
      "execution_count": null,
      "outputs": []
    }
  ]
}