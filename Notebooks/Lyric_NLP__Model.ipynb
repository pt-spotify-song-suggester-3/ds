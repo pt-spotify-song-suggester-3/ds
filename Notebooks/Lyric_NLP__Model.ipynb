{
  "nbformat": 4,
  "nbformat_minor": 0,
  "metadata": {
    "colab": {
      "name": "Lyric_NLP _Model.ipynb",
      "provenance": [],
      "collapsed_sections": []
    },
    "kernelspec": {
      "name": "python3",
      "display_name": "Python 3"
    }
  },
  "cells": [
    {
      "cell_type": "code",
      "metadata": {
        "id": "RZHuhpPLLWCG"
      },
      "source": [
        "import urllib.request\n",
        "import urllib.parse\n",
        "import urllib.error\n",
        "import ssl\n",
        "import json\n",
        "import ast\n",
        "import os\n",
        "from bs4 import BeautifulSoup\n",
        "from urllib.request import Request, urlopen"
      ],
      "execution_count": 2,
      "outputs": []
    },
    {
      "cell_type": "code",
      "metadata": {
        "id": "fJ9GjL-fLjCR"
      },
      "source": [
        "ctx = ssl.create_default_context()\n",
        "ctx.check_hostname = False\n",
        "ctx.verify_mode = ssl.CERT_NONE"
      ],
      "execution_count": null,
      "outputs": []
    },
    {
      "cell_type": "code",
      "metadata": {
        "id": "08xOBcq0MWXI",
        "outputId": "66196e7f-db20-42e4-a801-812f8710eacf",
        "colab": {
          "base_uri": "https://localhost:8080/",
          "height": 34
        }
      },
      "source": [
        "url = input('song lyrics url')"
      ],
      "execution_count": 3,
      "outputs": [
        {
          "output_type": "stream",
          "text": [
            "song lyrics urlhttps://genius.com/Bring-me-the-horizon-teardrops-lyrics\n"
          ],
          "name": "stdout"
        }
      ]
    },
    {
      "cell_type": "code",
      "metadata": {
        "id": "_aH2A9fTMloE"
      },
      "source": [
        "req = Request(url,headers={'User-Agent': 'Mozilla/5.0'})\n",
        "webpage = urlopen(req).read()"
      ],
      "execution_count": 5,
      "outputs": []
    },
    {
      "cell_type": "code",
      "metadata": {
        "id": "oQrD6GjYM6j_"
      },
      "source": [
        "soup = BeautifulSoup(webpage, 'html.parser')\n",
        "html = soup.prettify('utf-8')\n",
        "song_json = {}\n",
        "song_json[\"Lyrics\"] = [];\n",
        "song_json[\"Comments\"] = [];"
      ],
      "execution_count": 6,
      "outputs": []
    },
    {
      "cell_type": "code",
      "metadata": {
        "id": "4vyKqDJ1Nw88"
      },
      "source": [
        "for title in soup.findAll('title'):\n",
        "  song_json[\"Title\"] = title.text.strip()"
      ],
      "execution_count": 8,
      "outputs": []
    },
    {
      "cell_type": "code",
      "metadata": {
        "id": "gb-MI0ZJOlP1",
        "outputId": "94657eea-2253-4a0c-8bc5-ef19669e6d54",
        "colab": {
          "base_uri": "https://localhost:8080/",
          "height": 35
        }
      },
      "source": [
        "song_json[\"Title\"]"
      ],
      "execution_count": 9,
      "outputs": [
        {
          "output_type": "execute_result",
          "data": {
            "application/vnd.google.colaboratory.intrinsic+json": {
              "type": "string"
            },
            "text/plain": [
              "'Bring\\xa0Me The Horizon – Teardrops Lyrics | Genius Lyrics'"
            ]
          },
          "metadata": {
            "tags": []
          },
          "execution_count": 9
        }
      ]
    },
    {
      "cell_type": "code",
      "metadata": {
        "id": "VP3PxDQUOrH9"
      },
      "source": [
        "for div in soup.findAll('div', attrs={'class': 'lyrics'}):\n",
        "  song_json[\"Lyrics\"].append(div.text.strip().split(\"\\n\"));"
      ],
      "execution_count": 10,
      "outputs": []
    },
    {
      "cell_type": "code",
      "metadata": {
        "id": "yQC5xWjnPKe-",
        "outputId": "3b9b823b-d0f3-4057-eee4-c6cf4b8b285e",
        "colab": {
          "base_uri": "https://localhost:8080/",
          "height": 991
        }
      },
      "source": [
        "song_json[\"Lyrics\"]"
      ],
      "execution_count": 14,
      "outputs": [
        {
          "output_type": "execute_result",
          "data": {
            "text/plain": [
              "[['[Intro]',\n",
              "  'Teardrops',\n",
              "  '',\n",
              "  '[Verse 1]',\n",
              "  'We hurt ourselves for fun',\n",
              "  'Force-feed our fear until our hearts go numb',\n",
              "  'Addicted to a lonely kind of love',\n",
              "  'What I wanna know',\n",
              "  '',\n",
              "  '[Pre-Chorus]',\n",
              "  'Is how we got this stressed out, paranoid',\n",
              "  'Everything is going dark',\n",
              "  'Nothing makes me sadder than my head',\n",
              "  '',\n",
              "  '[Chorus]',\n",
              "  \"I'm running outta teardrops, let it hurt till it stops\",\n",
              "  \"I can't keep my grip, I'm slipping away from me\",\n",
              "  \"Oh, God, everything is so fucked, but I can't feel a thing\",\n",
              "  'The emptiness is heavier than you think',\n",
              "  '',\n",
              "  '[Verse 2]',\n",
              "  \"I'm tripping on the edge\",\n",
              "  \"High as a kite, I'm never coming down\",\n",
              "  'And if you hear me, guess you know how it feels',\n",
              "  'To be alone',\n",
              "  '',\n",
              "  '[Pre-Chorus]',\n",
              "  \"So how'd we get this stressed out, paranoid?\",\n",
              "  'Everything is going dark',\n",
              "  'Nothing makes me sadder than my head',\n",
              "  '',\n",
              "  '[Chorus]',\n",
              "  \"I'm running outta teardrops, let it hurt till it stops\",\n",
              "  \"I can't keep my grip, I'm slipping away from me\",\n",
              "  \"Oh, God, everything is so fucked, but I can't feel a thing\",\n",
              "  'The emptiness is heavier than you think',\n",
              "  '',\n",
              "  '[Bridge]',\n",
              "  'Suicidal, violent tragic state of mind',\n",
              "  \"Lost my halo, now I'm my own anti-christ\",\n",
              "  'Suicidal, violent, tragic state of mind',\n",
              "  \"Lost my halo, now I'm my own anti-christ\",\n",
              "  \"I'm running outta teardrops, let it hurt till it stops\",\n",
              "  \"I can't keep my grip, I'm slipping away from me\",\n",
              "  \"Oh, God, everything is so fucked, but I can't feel a thing\",\n",
              "  'The emptiness is heavier than you think',\n",
              "  '',\n",
              "  '[Chorus]',\n",
              "  \"I'm running outta teardrops, let it hurt till it stops\",\n",
              "  \"I can't keep my grip, I'm slipping away from me\",\n",
              "  \"Oh, God, everything is so fucked, but I can't feel a thing\",\n",
              "  'The emptiness is heavier than you think',\n",
              "  '',\n",
              "  '[Outro]',\n",
              "  'Teardrops',\n",
              "  'Teardrops',\n",
              "  \"I'm running outta teardrops\",\n",
              "  'The emptiness is heavier than you think']]"
            ]
          },
          "metadata": {
            "tags": []
          },
          "execution_count": 14
        }
      ]
    },
    {
      "cell_type": "code",
      "metadata": {
        "id": "iGkPyJGyPNee"
      },
      "source": [
        "with open(song_json[\"Title\"]+'.json','w') as outfile:\n",
        "  json.dump(song_json, outfile, indent=4, ensure_ascii=False)\n",
        "\n",
        "with open(song_json[\"Title\"] + '.html', 'wb') as file:\n",
        "  file.write(html)"
      ],
      "execution_count": 13,
      "outputs": []
    },
    {
      "cell_type": "code",
      "metadata": {
        "id": "S_V9FwSYQpyy"
      },
      "source": [
        ""
      ],
      "execution_count": null,
      "outputs": []
    }
  ]
}