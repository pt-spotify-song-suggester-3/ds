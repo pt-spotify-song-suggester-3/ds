{
  "nbformat": 4,
  "nbformat_minor": 0,
  "metadata": {
    "colab": {
      "name": "Untitled6.ipynb",
      "provenance": [],
      "collapsed_sections": []
    },
    "kernelspec": {
      "display_name": "Python 3",
      "name": "python3"
    }
  },
  "cells": [
    {
      "cell_type": "code",
      "metadata": {
        "id": "iz7fDa1kKwMI"
      },
      "source": [
        "import pandas as pd\n",
        "import numpy as np\n",
        "import matplotlib.pyplot as plt\n",
        "import seaborn as sns\n",
        " \n",
        "import json\n",
        "import pickle"
      ],
      "execution_count": 1,
      "outputs": []
    },
    {
      "cell_type": "code",
      "metadata": {
        "id": "JvmaqMmOLkYk"
      },
      "source": [
        "data = pd.read_csv('spotify3.csv')"
      ],
      "execution_count": 2,
      "outputs": []
    },
    {
      "cell_type": "code",
      "metadata": {
        "id": "TThkWFSELxz0",
        "outputId": "76f987dd-4938-4140-fc72-4f43e3a3e1bb",
        "colab": {
          "base_uri": "https://localhost:8080/",
          "height": 366
        }
      },
      "source": [
        "data.head()"
      ],
      "execution_count": 3,
      "outputs": [
        {
          "output_type": "execute_result",
          "data": {
            "text/html": [
              "<div>\n",
              "<style scoped>\n",
              "    .dataframe tbody tr th:only-of-type {\n",
              "        vertical-align: middle;\n",
              "    }\n",
              "\n",
              "    .dataframe tbody tr th {\n",
              "        vertical-align: top;\n",
              "    }\n",
              "\n",
              "    .dataframe thead th {\n",
              "        text-align: right;\n",
              "    }\n",
              "</style>\n",
              "<table border=\"1\" class=\"dataframe\">\n",
              "  <thead>\n",
              "    <tr style=\"text-align: right;\">\n",
              "      <th></th>\n",
              "      <th>acousticness</th>\n",
              "      <th>danceability</th>\n",
              "      <th>duration_ms</th>\n",
              "      <th>energy</th>\n",
              "      <th>instrumentalness</th>\n",
              "      <th>key</th>\n",
              "      <th>liveness</th>\n",
              "      <th>loudness</th>\n",
              "      <th>popularity</th>\n",
              "      <th>speechiness</th>\n",
              "      <th>tempo</th>\n",
              "      <th>valence</th>\n",
              "      <th>year</th>\n",
              "      <th>artists</th>\n",
              "      <th>id</th>\n",
              "    </tr>\n",
              "  </thead>\n",
              "  <tbody>\n",
              "    <tr>\n",
              "      <th>0</th>\n",
              "      <td>0.998996</td>\n",
              "      <td>0.716599</td>\n",
              "      <td>0.028442</td>\n",
              "      <td>0.1950</td>\n",
              "      <td>0.563</td>\n",
              "      <td>0.909091</td>\n",
              "      <td>0.1510</td>\n",
              "      <td>0.745000</td>\n",
              "      <td>0.00</td>\n",
              "      <td>0.052219</td>\n",
              "      <td>0.485348</td>\n",
              "      <td>0.7790</td>\n",
              "      <td>0.070707</td>\n",
              "      <td>['Carl Woitschach']</td>\n",
              "      <td>6KbQ3uYMLKb5jDxLF7wYDD</td>\n",
              "    </tr>\n",
              "    <tr>\n",
              "      <th>1</th>\n",
              "      <td>0.997992</td>\n",
              "      <td>0.383603</td>\n",
              "      <td>0.051316</td>\n",
              "      <td>0.0135</td>\n",
              "      <td>0.901</td>\n",
              "      <td>0.727273</td>\n",
              "      <td>0.0763</td>\n",
              "      <td>0.494026</td>\n",
              "      <td>0.00</td>\n",
              "      <td>0.047678</td>\n",
              "      <td>0.344019</td>\n",
              "      <td>0.0767</td>\n",
              "      <td>0.070707</td>\n",
              "      <td>['Robert Schumann', 'Vladimir Horowitz']</td>\n",
              "      <td>6KuQTIu1KoTTkLXKrwlLPV</td>\n",
              "    </tr>\n",
              "    <tr>\n",
              "      <th>2</th>\n",
              "      <td>0.606426</td>\n",
              "      <td>0.758097</td>\n",
              "      <td>0.018374</td>\n",
              "      <td>0.2200</td>\n",
              "      <td>0.000</td>\n",
              "      <td>0.454545</td>\n",
              "      <td>0.1190</td>\n",
              "      <td>0.627609</td>\n",
              "      <td>0.00</td>\n",
              "      <td>0.958720</td>\n",
              "      <td>0.439086</td>\n",
              "      <td>0.8800</td>\n",
              "      <td>0.070707</td>\n",
              "      <td>['Seweryn Goszczyński']</td>\n",
              "      <td>6L63VW0PibdM1HDSBoqnoM</td>\n",
              "    </tr>\n",
              "    <tr>\n",
              "      <th>3</th>\n",
              "      <td>0.998996</td>\n",
              "      <td>0.790486</td>\n",
              "      <td>0.032538</td>\n",
              "      <td>0.1300</td>\n",
              "      <td>0.887</td>\n",
              "      <td>0.090909</td>\n",
              "      <td>0.1110</td>\n",
              "      <td>0.708887</td>\n",
              "      <td>0.00</td>\n",
              "      <td>0.095562</td>\n",
              "      <td>0.442470</td>\n",
              "      <td>0.7200</td>\n",
              "      <td>0.070707</td>\n",
              "      <td>['Francisco Canaro']</td>\n",
              "      <td>6M94FkXd15sOAOQYRnWPN8</td>\n",
              "    </tr>\n",
              "    <tr>\n",
              "      <th>4</th>\n",
              "      <td>0.993976</td>\n",
              "      <td>0.212551</td>\n",
              "      <td>0.126450</td>\n",
              "      <td>0.2040</td>\n",
              "      <td>0.908</td>\n",
              "      <td>1.000000</td>\n",
              "      <td>0.0980</td>\n",
              "      <td>0.676079</td>\n",
              "      <td>0.01</td>\n",
              "      <td>0.043756</td>\n",
              "      <td>0.254614</td>\n",
              "      <td>0.0693</td>\n",
              "      <td>0.070707</td>\n",
              "      <td>['Frédéric Chopin', 'Vladimir Horowitz']</td>\n",
              "      <td>6N6tiFZ9vLTSOIxkj8qKrd</td>\n",
              "    </tr>\n",
              "  </tbody>\n",
              "</table>\n",
              "</div>"
            ],
            "text/plain": [
              "   acousticness  ...                      id\n",
              "0      0.998996  ...  6KbQ3uYMLKb5jDxLF7wYDD\n",
              "1      0.997992  ...  6KuQTIu1KoTTkLXKrwlLPV\n",
              "2      0.606426  ...  6L63VW0PibdM1HDSBoqnoM\n",
              "3      0.998996  ...  6M94FkXd15sOAOQYRnWPN8\n",
              "4      0.993976  ...  6N6tiFZ9vLTSOIxkj8qKrd\n",
              "\n",
              "[5 rows x 15 columns]"
            ]
          },
          "metadata": {
            "tags": []
          },
          "execution_count": 3
        }
      ]
    },
    {
      "cell_type": "code",
      "metadata": {
        "id": "jxp3FZlCL-n1",
        "outputId": "f65fe4f3-48b9-4282-e9be-5717694cc9b4",
        "colab": {
          "base_uri": "https://localhost:8080/",
          "height": 304
        }
      },
      "source": [
        "data.describe()"
      ],
      "execution_count": 4,
      "outputs": [
        {
          "output_type": "execute_result",
          "data": {
            "text/html": [
              "<div>\n",
              "<style scoped>\n",
              "    .dataframe tbody tr th:only-of-type {\n",
              "        vertical-align: middle;\n",
              "    }\n",
              "\n",
              "    .dataframe tbody tr th {\n",
              "        vertical-align: top;\n",
              "    }\n",
              "\n",
              "    .dataframe thead th {\n",
              "        text-align: right;\n",
              "    }\n",
              "</style>\n",
              "<table border=\"1\" class=\"dataframe\">\n",
              "  <thead>\n",
              "    <tr style=\"text-align: right;\">\n",
              "      <th></th>\n",
              "      <th>acousticness</th>\n",
              "      <th>danceability</th>\n",
              "      <th>duration_ms</th>\n",
              "      <th>energy</th>\n",
              "      <th>instrumentalness</th>\n",
              "      <th>key</th>\n",
              "      <th>liveness</th>\n",
              "      <th>loudness</th>\n",
              "      <th>popularity</th>\n",
              "      <th>speechiness</th>\n",
              "      <th>tempo</th>\n",
              "      <th>valence</th>\n",
              "      <th>year</th>\n",
              "    </tr>\n",
              "  </thead>\n",
              "  <tbody>\n",
              "    <tr>\n",
              "      <th>count</th>\n",
              "      <td>169909.000000</td>\n",
              "      <td>169909.000000</td>\n",
              "      <td>169909.000000</td>\n",
              "      <td>169909.000000</td>\n",
              "      <td>169909.000000</td>\n",
              "      <td>169909.000000</td>\n",
              "      <td>169909.000000</td>\n",
              "      <td>169909.000000</td>\n",
              "      <td>169909.000000</td>\n",
              "      <td>169909.000000</td>\n",
              "      <td>169909.000000</td>\n",
              "      <td>169909.000000</td>\n",
              "      <td>169909.000000</td>\n",
              "    </tr>\n",
              "    <tr>\n",
              "      <th>mean</th>\n",
              "      <td>0.495195</td>\n",
              "      <td>0.544686</td>\n",
              "      <td>0.041920</td>\n",
              "      <td>0.488593</td>\n",
              "      <td>0.161937</td>\n",
              "      <td>0.472774</td>\n",
              "      <td>0.206690</td>\n",
              "      <td>0.761565</td>\n",
              "      <td>0.315566</td>\n",
              "      <td>0.097067</td>\n",
              "      <td>0.479116</td>\n",
              "      <td>0.532095</td>\n",
              "      <td>0.567911</td>\n",
              "    </tr>\n",
              "    <tr>\n",
              "      <th>std</th>\n",
              "      <td>0.378140</td>\n",
              "      <td>0.177475</td>\n",
              "      <td>0.022474</td>\n",
              "      <td>0.267390</td>\n",
              "      <td>0.309329</td>\n",
              "      <td>0.319569</td>\n",
              "      <td>0.176796</td>\n",
              "      <td>0.088744</td>\n",
              "      <td>0.215826</td>\n",
              "      <td>0.154734</td>\n",
              "      <td>0.125883</td>\n",
              "      <td>0.262408</td>\n",
              "      <td>0.258517</td>\n",
              "    </tr>\n",
              "    <tr>\n",
              "      <th>min</th>\n",
              "      <td>0.000000</td>\n",
              "      <td>0.000000</td>\n",
              "      <td>0.000000</td>\n",
              "      <td>0.000000</td>\n",
              "      <td>0.000000</td>\n",
              "      <td>0.000000</td>\n",
              "      <td>0.000000</td>\n",
              "      <td>0.000000</td>\n",
              "      <td>0.000000</td>\n",
              "      <td>0.000000</td>\n",
              "      <td>0.000000</td>\n",
              "      <td>0.000000</td>\n",
              "      <td>0.000000</td>\n",
              "    </tr>\n",
              "    <tr>\n",
              "      <th>25%</th>\n",
              "      <td>0.094880</td>\n",
              "      <td>0.422065</td>\n",
              "      <td>0.030737</td>\n",
              "      <td>0.263000</td>\n",
              "      <td>0.000000</td>\n",
              "      <td>0.181818</td>\n",
              "      <td>0.098400</td>\n",
              "      <td>0.713022</td>\n",
              "      <td>0.120000</td>\n",
              "      <td>0.036017</td>\n",
              "      <td>0.383119</td>\n",
              "      <td>0.322000</td>\n",
              "      <td>0.363636</td>\n",
              "    </tr>\n",
              "    <tr>\n",
              "      <th>50%</th>\n",
              "      <td>0.493976</td>\n",
              "      <td>0.554656</td>\n",
              "      <td>0.037695</td>\n",
              "      <td>0.481000</td>\n",
              "      <td>0.000204</td>\n",
              "      <td>0.454545</td>\n",
              "      <td>0.135000</td>\n",
              "      <td>0.775601</td>\n",
              "      <td>0.330000</td>\n",
              "      <td>0.046440</td>\n",
              "      <td>0.470226</td>\n",
              "      <td>0.544000</td>\n",
              "      <td>0.575758</td>\n",
              "    </tr>\n",
              "    <tr>\n",
              "      <th>75%</th>\n",
              "      <td>0.891566</td>\n",
              "      <td>0.675101</td>\n",
              "      <td>0.047765</td>\n",
              "      <td>0.710000</td>\n",
              "      <td>0.086800</td>\n",
              "      <td>0.727273</td>\n",
              "      <td>0.263000</td>\n",
              "      <td>0.828158</td>\n",
              "      <td>0.480000</td>\n",
              "      <td>0.077812</td>\n",
              "      <td>0.555989</td>\n",
              "      <td>0.749000</td>\n",
              "      <td>0.787879</td>\n",
              "    </tr>\n",
              "    <tr>\n",
              "      <th>max</th>\n",
              "      <td>1.000000</td>\n",
              "      <td>1.000000</td>\n",
              "      <td>1.000000</td>\n",
              "      <td>1.000000</td>\n",
              "      <td>1.000000</td>\n",
              "      <td>1.000000</td>\n",
              "      <td>1.000000</td>\n",
              "      <td>1.000000</td>\n",
              "      <td>1.000000</td>\n",
              "      <td>1.000000</td>\n",
              "      <td>1.000000</td>\n",
              "      <td>1.000000</td>\n",
              "      <td>1.000000</td>\n",
              "    </tr>\n",
              "  </tbody>\n",
              "</table>\n",
              "</div>"
            ],
            "text/plain": [
              "        acousticness   danceability  ...        valence           year\n",
              "count  169909.000000  169909.000000  ...  169909.000000  169909.000000\n",
              "mean        0.495195       0.544686  ...       0.532095       0.567911\n",
              "std         0.378140       0.177475  ...       0.262408       0.258517\n",
              "min         0.000000       0.000000  ...       0.000000       0.000000\n",
              "25%         0.094880       0.422065  ...       0.322000       0.363636\n",
              "50%         0.493976       0.554656  ...       0.544000       0.575758\n",
              "75%         0.891566       0.675101  ...       0.749000       0.787879\n",
              "max         1.000000       1.000000  ...       1.000000       1.000000\n",
              "\n",
              "[8 rows x 13 columns]"
            ]
          },
          "metadata": {
            "tags": []
          },
          "execution_count": 4
        }
      ]
    },
    {
      "cell_type": "code",
      "metadata": {
        "id": "RvcE6VuwMLXc",
        "outputId": "fb4c3ea6-f047-4691-d258-9d41d5ba1d7a",
        "colab": {
          "base_uri": "https://localhost:8080/",
          "height": 282
        }
      },
      "source": [
        "from sklearn.model_selection import train_test_split\n",
        "\n",
        "# train/test split\n",
        "train, test = train_test_split(data, test_size=0.2, random_state=42)\n",
        "train.head()"
      ],
      "execution_count": 5,
      "outputs": [
        {
          "output_type": "execute_result",
          "data": {
            "text/html": [
              "<div>\n",
              "<style scoped>\n",
              "    .dataframe tbody tr th:only-of-type {\n",
              "        vertical-align: middle;\n",
              "    }\n",
              "\n",
              "    .dataframe tbody tr th {\n",
              "        vertical-align: top;\n",
              "    }\n",
              "\n",
              "    .dataframe thead th {\n",
              "        text-align: right;\n",
              "    }\n",
              "</style>\n",
              "<table border=\"1\" class=\"dataframe\">\n",
              "  <thead>\n",
              "    <tr style=\"text-align: right;\">\n",
              "      <th></th>\n",
              "      <th>acousticness</th>\n",
              "      <th>danceability</th>\n",
              "      <th>duration_ms</th>\n",
              "      <th>energy</th>\n",
              "      <th>instrumentalness</th>\n",
              "      <th>key</th>\n",
              "      <th>liveness</th>\n",
              "      <th>loudness</th>\n",
              "      <th>popularity</th>\n",
              "      <th>speechiness</th>\n",
              "      <th>tempo</th>\n",
              "      <th>valence</th>\n",
              "      <th>year</th>\n",
              "      <th>artists</th>\n",
              "      <th>id</th>\n",
              "    </tr>\n",
              "  </thead>\n",
              "  <tbody>\n",
              "    <tr>\n",
              "      <th>31517</th>\n",
              "      <td>0.001084</td>\n",
              "      <td>0.211538</td>\n",
              "      <td>0.024593</td>\n",
              "      <td>0.780</td>\n",
              "      <td>0.025300</td>\n",
              "      <td>0.090909</td>\n",
              "      <td>0.2120</td>\n",
              "      <td>0.888811</td>\n",
              "      <td>0.49</td>\n",
              "      <td>0.052838</td>\n",
              "      <td>0.421470</td>\n",
              "      <td>0.626</td>\n",
              "      <td>0.929293</td>\n",
              "      <td>['Radiator Hospital']</td>\n",
              "      <td>6fLvsD8uWsCRow8PfOpMav</td>\n",
              "    </tr>\n",
              "    <tr>\n",
              "      <th>708</th>\n",
              "      <td>0.871486</td>\n",
              "      <td>0.401822</td>\n",
              "      <td>0.031533</td>\n",
              "      <td>0.775</td>\n",
              "      <td>0.000500</td>\n",
              "      <td>0.000000</td>\n",
              "      <td>0.6010</td>\n",
              "      <td>0.891582</td>\n",
              "      <td>0.00</td>\n",
              "      <td>0.137255</td>\n",
              "      <td>0.338235</td>\n",
              "      <td>0.875</td>\n",
              "      <td>0.252525</td>\n",
              "      <td>['Zohrabai Ambalawali']</td>\n",
              "      <td>50pwsTFVsJTYA7rPFGpAoP</td>\n",
              "    </tr>\n",
              "    <tr>\n",
              "      <th>110555</th>\n",
              "      <td>0.402610</td>\n",
              "      <td>0.687247</td>\n",
              "      <td>0.026529</td>\n",
              "      <td>0.471</td>\n",
              "      <td>0.000018</td>\n",
              "      <td>0.363636</td>\n",
              "      <td>0.5520</td>\n",
              "      <td>0.741633</td>\n",
              "      <td>0.30</td>\n",
              "      <td>0.059546</td>\n",
              "      <td>0.462721</td>\n",
              "      <td>0.674</td>\n",
              "      <td>0.383838</td>\n",
              "      <td>['Elvis Presley']</td>\n",
              "      <td>0q0cKtWbDbAeVrtql6lkB2</td>\n",
              "    </tr>\n",
              "    <tr>\n",
              "      <th>4104</th>\n",
              "      <td>0.159639</td>\n",
              "      <td>0.717611</td>\n",
              "      <td>0.034781</td>\n",
              "      <td>0.654</td>\n",
              "      <td>0.000015</td>\n",
              "      <td>0.000000</td>\n",
              "      <td>0.1010</td>\n",
              "      <td>0.847169</td>\n",
              "      <td>0.39</td>\n",
              "      <td>0.028070</td>\n",
              "      <td>0.446424</td>\n",
              "      <td>0.829</td>\n",
              "      <td>0.595960</td>\n",
              "      <td>['Roxy Music']</td>\n",
              "      <td>6XMg9IQsc2MY0G55dFlnoY</td>\n",
              "    </tr>\n",
              "    <tr>\n",
              "      <th>148835</th>\n",
              "      <td>0.041265</td>\n",
              "      <td>0.571862</td>\n",
              "      <td>0.044084</td>\n",
              "      <td>0.628</td>\n",
              "      <td>0.000000</td>\n",
              "      <td>0.636364</td>\n",
              "      <td>0.0763</td>\n",
              "      <td>0.775131</td>\n",
              "      <td>0.30</td>\n",
              "      <td>0.042931</td>\n",
              "      <td>0.521912</td>\n",
              "      <td>0.896</td>\n",
              "      <td>0.585859</td>\n",
              "      <td>['The Clash']</td>\n",
              "      <td>5nKoCK2SIO2dE9m09sh58d</td>\n",
              "    </tr>\n",
              "  </tbody>\n",
              "</table>\n",
              "</div>"
            ],
            "text/plain": [
              "        acousticness  ...                      id\n",
              "31517       0.001084  ...  6fLvsD8uWsCRow8PfOpMav\n",
              "708         0.871486  ...  50pwsTFVsJTYA7rPFGpAoP\n",
              "110555      0.402610  ...  0q0cKtWbDbAeVrtql6lkB2\n",
              "4104        0.159639  ...  6XMg9IQsc2MY0G55dFlnoY\n",
              "148835      0.041265  ...  5nKoCK2SIO2dE9m09sh58d\n",
              "\n",
              "[5 rows x 15 columns]"
            ]
          },
          "metadata": {
            "tags": []
          },
          "execution_count": 5
        }
      ]
    },
    {
      "cell_type": "code",
      "metadata": {
        "id": "X83KTs5lv7AJ",
        "outputId": "dcb32719-f523-40cd-b5e4-2d0b08a5a94c",
        "colab": {
          "base_uri": "https://localhost:8080/",
          "height": 34
        }
      },
      "source": [
        "train.shape, test.shape\n"
      ],
      "execution_count": 6,
      "outputs": [
        {
          "output_type": "execute_result",
          "data": {
            "text/plain": [
              "((135927, 15), (33982, 15))"
            ]
          },
          "metadata": {
            "tags": []
          },
          "execution_count": 6
        }
      ]
    },
    {
      "cell_type": "code",
      "metadata": {
        "id": "dcc7lHxUMqzy"
      },
      "source": [
        "from sklearn.neighbors import NearestNeighbors\n",
        "import pickle\n",
        "\n",
        "    # fix for pickle error\n",
        "NN = NearestNeighbors(n_neighbors=10, \n",
        "                          algorithm='kd_tree', \n",
        "                          metric='euclidean', \n",
        "                          leaf_size=50, \n",
        "                          n_jobs=-1\n",
        "    )\n",
        "\n",
        "filename = 'test_1.sav'\n",
        "pickle.dump(NN, open(filename, 'wb'))\n",
        "model = pickle.load(open(filename, 'rb'))"
      ],
      "execution_count": 9,
      "outputs": []
    },
    {
      "cell_type": "code",
      "metadata": {
        "id": "Ogf1ZBC7JCCY"
      },
      "source": [
        "# Base function using a knn model input and a track id\n",
        "def KNN(model, track_id): \n",
        "   model.fit(data[data.columns[0:12]])\n",
        " \n",
        "   obs = data.index[data['id'] == track_id]\n",
        "   series = data.iloc[obs, 0:12].to_numpy()\n",
        " \n",
        "   neighbors = model.kneighbors(series)\n",
        " \n",
        "   new_obs = neighbors[1][0][1:16]\n",
        "   print(new_obs)\n",
        "   print(list(data.loc[new_obs, 'id']))"
      ],
      "execution_count": 28,
      "outputs": []
    },
    {
      "cell_type": "code",
      "metadata": {
        "id": "blzApaMcM0Il",
        "outputId": "530a14b9-69d4-4089-b5c7-3c67fc4c65ad",
        "colab": {
          "base_uri": "https://localhost:8080/",
          "height": 70
        }
      },
      "source": [
        "# pickled model and random track id\n",
        "KNN(model, '6fLvsD8uWsCRow8PfOpMav')"
      ],
      "execution_count": 29,
      "outputs": [
        {
          "output_type": "stream",
          "text": [
            "[123864 104406 105322 150553  83780   6914  68331 168893 103433]\n",
            "['5arE0i12UB4WuGraBVcuXE', '0gXMYs6RDg5muWWoi2q3mb', '4XDBEoD6QFnzDY5oMmNVXN', '1rvbY7HXYsFXSlLqxphocK', '16x9viSmRS3PII71Pdeowc', '5CAaWuGhF4XvUm2liCkThA', '46MoFdSoufjnzJ2NWuhRA0', '3ASlnePYdvR9RPlQyTJipP', '6SUudbR4vTazN9Jb7QWQn5']\n"
          ],
          "name": "stdout"
        }
      ]
    },
    {
      "cell_type": "code",
      "metadata": {
        "id": "eY7cPrwzOsrn",
        "outputId": "596c1b56-9e3d-4423-d9d5-bddeb8e2fdcb",
        "colab": {
          "base_uri": "https://localhost:8080/",
          "height": 70
        }
      },
      "source": [
        "KNN(model, '50pwsTFVsJTYA7rPFGpAoP')"
      ],
      "execution_count": 30,
      "outputs": [
        {
          "output_type": "stream",
          "text": [
            "[  8707  34030  99249   8501  99259 136158  89010    885 127475]\n",
            "['3HAAKjpHv1SmZ1yvdgg0of', '1ixhN5Ny7eU5oYJ8j4yPTu', '05YfjSrFdFFNkS4AJoQr7z', '2pZoaMCHtvNl8WUWBQNRkK', '06z0xKRgqATQvr82f1qQeA', '4KCccOna239pckiyWEBSCy', '1sAFd9paCfBdrSfKJyEn0V', '3zR1UrjOZ4xAcjnetjvAEr', '0zqc6NoBNqYq8n0TGjYyTC']\n"
          ],
          "name": "stdout"
        }
      ]
    },
    {
      "cell_type": "code",
      "metadata": {
        "id": "JildjHk6PnDt",
        "outputId": "5b426d57-5ad5-4764-8e08-5338ad93f2d9",
        "colab": {
          "base_uri": "https://localhost:8080/",
          "height": 286
        }
      },
      "source": [
        "data.iloc[3889]"
      ],
      "execution_count": 31,
      "outputs": [
        {
          "output_type": "execute_result",
          "data": {
            "text/plain": [
              "acousticness                    0.00191767\n",
              "danceability                      0.268219\n",
              "duration_ms                      0.0262643\n",
              "energy                                0.82\n",
              "instrumentalness                    0.0265\n",
              "key                               0.909091\n",
              "liveness                             0.157\n",
              "loudness                          0.828956\n",
              "popularity                            0.35\n",
              "speechiness                      0.0546956\n",
              "tempo                             0.381944\n",
              "valence                              0.479\n",
              "year                              0.575758\n",
              "artists                      ['Buzzcocks']\n",
              "id                  7cZtsWVdq8Df9NXh8DDHKm\n",
              "Name: 3889, dtype: object"
            ]
          },
          "metadata": {
            "tags": []
          },
          "execution_count": 31
        }
      ]
    },
    {
      "cell_type": "code",
      "metadata": {
        "id": "9spAFEjeDmXv"
      },
      "source": [
        ""
      ],
      "execution_count": null,
      "outputs": []
    }
  ]
}